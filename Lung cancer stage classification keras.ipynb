{ 
 "cells": [
  {
   "cell_type": "code",
   "execution_count": 139,
   "metadata": {},
   "outputs": [],
   "source": [
    "import pandas as pd\n",
    "import numpy as np\n",
    "import pydicom as dicom\n",
    "import os\n",
    "import matplotlib.pyplot as plt\n",
    "import cv2\n",
    "import math\n",
    "import scipy\n",
    "from sklearn.model_selection import train_test_split\n",
    "\n",
    "%matplotlib inline"
   ]
  },
  {
   "cell_type": "code",
   "execution_count": 2,
   "metadata": {},
   "outputs": [],
   "source": [
    "# Reduced Image pixel size and the depth to process data without cloud\n",
    "IMG_PXL_SIZE = 50\n",
    "HM_SLICES = 20"
   ]
  },
  {
   "cell_type": "code",
   "execution_count": 4,
   "metadata": {},
   "outputs": [],
   "source": [
    "data_labels = pd.read_csv('./Lung1.clinical.csv',index_col=0)\n",
    "data_dir = 'C:/Users/Daniel/Desktop/NSCLC-Radiomics/patients/'\n",
    "patients = os.listdir(data_dir)\n"
   ]
  },
  {
   "cell_type": "code",
   "execution_count": 165,
   "metadata": {},
   "outputs": [
    {
     "data": {
      "text/html": [
       "<div>\n",
       "<style scoped>\n",
       "    .dataframe tbody tr th:only-of-type {\n",
       "        vertical-align: middle;\n",
       "    }\n",
       "\n",
       "    .dataframe tbody tr th {\n",
       "        vertical-align: top;\n",
       "    }\n",
       "\n",
       "    .dataframe thead th {\n",
       "        text-align: right;\n",
       "    }\n",
       "</style>\n",
       "<table border=\"1\" class=\"dataframe\">\n",
       "  <thead>\n",
       "    <tr style=\"text-align: right;\">\n",
       "      <th></th>\n",
       "      <th>age</th>\n",
       "      <th>clinical.T.Stage</th>\n",
       "      <th>Clinical.N.Stage</th>\n",
       "      <th>Clinical.M.Stage</th>\n",
       "      <th>Overall.Stage</th>\n",
       "      <th>Histology</th>\n",
       "      <th>gender</th>\n",
       "      <th>Survival.time</th>\n",
       "      <th>deadstatus.event</th>\n",
       "    </tr>\n",
       "    <tr>\n",
       "      <th>PatientID</th>\n",
       "      <th></th>\n",
       "      <th></th>\n",
       "      <th></th>\n",
       "      <th></th>\n",
       "      <th></th>\n",
       "      <th></th>\n",
       "      <th></th>\n",
       "      <th></th>\n",
       "      <th></th>\n",
       "    </tr>\n",
       "  </thead>\n",
       "  <tbody>\n",
       "    <tr>\n",
       "      <th>LUNG1-001</th>\n",
       "      <td>78.7515</td>\n",
       "      <td>2.0</td>\n",
       "      <td>3</td>\n",
       "      <td>0</td>\n",
       "      <td>IIIb</td>\n",
       "      <td>large cell</td>\n",
       "      <td>male</td>\n",
       "      <td>2165</td>\n",
       "      <td>1</td>\n",
       "    </tr>\n",
       "    <tr>\n",
       "      <th>LUNG1-002</th>\n",
       "      <td>83.8001</td>\n",
       "      <td>2.0</td>\n",
       "      <td>0</td>\n",
       "      <td>0</td>\n",
       "      <td>I</td>\n",
       "      <td>squamous cell carcinoma</td>\n",
       "      <td>male</td>\n",
       "      <td>155</td>\n",
       "      <td>1</td>\n",
       "    </tr>\n",
       "    <tr>\n",
       "      <th>LUNG1-003</th>\n",
       "      <td>68.1807</td>\n",
       "      <td>2.0</td>\n",
       "      <td>3</td>\n",
       "      <td>0</td>\n",
       "      <td>IIIb</td>\n",
       "      <td>large cell</td>\n",
       "      <td>male</td>\n",
       "      <td>256</td>\n",
       "      <td>1</td>\n",
       "    </tr>\n",
       "    <tr>\n",
       "      <th>LUNG1-004</th>\n",
       "      <td>70.8802</td>\n",
       "      <td>2.0</td>\n",
       "      <td>1</td>\n",
       "      <td>0</td>\n",
       "      <td>II</td>\n",
       "      <td>squamous cell carcinoma</td>\n",
       "      <td>male</td>\n",
       "      <td>141</td>\n",
       "      <td>1</td>\n",
       "    </tr>\n",
       "    <tr>\n",
       "      <th>LUNG1-005</th>\n",
       "      <td>80.4819</td>\n",
       "      <td>4.0</td>\n",
       "      <td>2</td>\n",
       "      <td>0</td>\n",
       "      <td>IIIb</td>\n",
       "      <td>squamous cell carcinoma</td>\n",
       "      <td>male</td>\n",
       "      <td>353</td>\n",
       "      <td>1</td>\n",
       "    </tr>\n",
       "  </tbody>\n",
       "</table>\n",
       "</div>"
      ],
      "text/plain": [
       "               age  clinical.T.Stage  Clinical.N.Stage  Clinical.M.Stage  \\\n",
       "PatientID                                                                  \n",
       "LUNG1-001  78.7515               2.0                 3                 0   \n",
       "LUNG1-002  83.8001               2.0                 0                 0   \n",
       "LUNG1-003  68.1807               2.0                 3                 0   \n",
       "LUNG1-004  70.8802               2.0                 1                 0   \n",
       "LUNG1-005  80.4819               4.0                 2                 0   \n",
       "\n",
       "          Overall.Stage                Histology gender  Survival.time  \\\n",
       "PatientID                                                                \n",
       "LUNG1-001          IIIb               large cell   male           2165   \n",
       "LUNG1-002             I  squamous cell carcinoma   male            155   \n",
       "LUNG1-003          IIIb               large cell   male            256   \n",
       "LUNG1-004            II  squamous cell carcinoma   male            141   \n",
       "LUNG1-005          IIIb  squamous cell carcinoma   male            353   \n",
       "\n",
       "           deadstatus.event  \n",
       "PatientID                    \n",
       "LUNG1-001                 1  \n",
       "LUNG1-002                 1  \n",
       "LUNG1-003                 1  \n",
       "LUNG1-004                 1  \n",
       "LUNG1-005                 1  "
      ]
     },
     "execution_count": 165,
     "metadata": {},
     "output_type": "execute_result"
    }
   ],
   "source": [
    "data_labels.head()"
   ]
  },
  {
   "cell_type": "code",
   "execution_count": 170,
   "metadata": {},
   "outputs": [
    {
     "data": {
      "text/plain": [
       "IIIb    176\n",
       "IIIa    112\n",
       "I        93\n",
       "II       40\n",
       "Name: Overall.Stage, dtype: int64"
      ]
     },
     "execution_count": 170,
     "metadata": {},
     "output_type": "execute_result"
    }
   ],
   "source": [
    "data_labels['Overall.Stage'].value_counts()"
   ]
  },
  {
   "cell_type": "code",
   "execution_count": 172,
   "metadata": {},
   "outputs": [
    {
     "name": "stdout",
     "output_type": "stream",
     "text": [
      "288\n",
      "133\n"
     ]
    }
   ],
   "source": [
    "stage3a_and_3b =  data_labels['Overall.Stage'].value_counts()[0] + data_labels['Overall.Stage'].value_counts()[1]\n",
    "stage1_and_2 = data_labels['Overall.Stage'].value_counts()[2] + data_labels['Overall.Stage'].value_counts()[3]\n",
    "print(stage3a_and_3b)\n",
    "print(stage1_and_2)"
   ]
  },
  {
   "cell_type": "code",
   "execution_count": 6,
   "metadata": {},
   "outputs": [],
   "source": [
    "\n",
    "# Function to break a list of slices into chunks of lists\n",
    "def chunks(l, n):\n",
    "    \"\"\"Yield successive n-sized chunks from l.\"\"\"\n",
    "    for i in range(0, len(l), n):\n",
    "        yield l[i:i + n]\n",
    "\n"
   ]
  },
  {
   "cell_type": "code",
   "execution_count": 7,
   "metadata": {},
   "outputs": [],
   "source": [
    "def mean(l):\n",
    "    return sum(l)/len(l)"
   ]
  },
  {
   "attachments": {
    "image.png": {
     "image/png": "[encoded data removed]"
    }
   },
   "cell_type": "markdown",
   "metadata": {},
   "source": [
    "![image.png](attachment:image.png)"
   ]
  },
  {
   "cell_type": "markdown",
   "metadata": {},
   "source": [
    "# Function to limit depth\n",
    "\n",
    "This function will limit the depth of 3-D CT Scans to 20 slices. "
   ]
  },
  {
   "cell_type": "code",
   "execution_count": 137,
   "metadata": {},
   "outputs": [],
   "source": [
    "# Function to process data\n",
    "def process_data(patient, data_labels, img_pxl_size=20, hm_slices=20, vizualize = False):\n",
    "\n",
    "    label = data_labels.get_value(patient,'Overall.Stage')\n",
    "    path = data_dir + patient\n",
    "    _, __, files = os.walk(path)\n",
    "    slices = [dicom.read_file(files[0] + '/' + s) for s in os.listdir(files[0])]\n",
    "    slices.sort(key = lambda x: float(x.ImagePositionPatient[2]))\n",
    "    #print(len(slices), label)\n",
    "    #print(slices[0])\n",
    "    #plt.imshow(slices[0].pixel_array)\n",
    "    #plt.show()\n",
    "\n",
    "    new_slices = []\n",
    "\n",
    "    slices = [cv2.resize(np.array(each_slice.pixel_array),(IMG_PXL_SIZE,IMG_PXL_SIZE)) for each_slice in slices]\n",
    "\n",
    "    chunk_sizes = math.ceil(len(slices) / HM_SLICES)\n",
    "\n",
    "\n",
    "\n",
    "    for slice_chunk in chunks(slices,chunk_sizes):\n",
    "        slice_chunk = list(map(mean, zip(*slice_chunk)))\n",
    "        new_slices.append(slice_chunk)\n",
    "\n",
    "\n",
    "    if len(new_slices) == HM_SLICES-1:\n",
    "        new_slices.append(new_slices[-1])\n",
    "\n",
    "    if len(new_slices) == HM_SLICES-2:\n",
    "        new_slices.append(new_slices[-1])\n",
    "        new_slices.append(new_slices[-1])\n",
    "\n",
    "#     if len(new_slices) == HM_SLICES+2:\n",
    "#         new_val = list(map(mean, zip(*[new_slices[HM_SLICES-1],new_slices[HM_SLICES]])))\n",
    "#         del new_slices[HM_SLICES]\n",
    "#         new_slices[HM_SLICES-1] = new_val\n",
    "\n",
    "#     if len(new_slices) == HM_SLICES+1:\n",
    "#         new_val = list(map(mean, zip(*[new_slices[HM_SLICES-1],new_slices[HM_SLICES]])))\n",
    "#         del new_slices[HM_SLICES]\n",
    "#         new_slices[HM_SLICES-1] = new_val\n",
    "\n",
    "\n",
    "    if vizualize:\n",
    "        fig = plt.figure()\n",
    "        for num,each_slice in enumerate(slices[:12]):\n",
    "            y = fig.add_subplot(4,5,num+1)\n",
    "            #new_image = scipy.misc.imresize(np.array(each_slice.pixel_array),(IMG_PXL_SIZE,IMG_PXL_SIZE))\n",
    "            #y.imshow(slices[0].pixel_array)\n",
    "            #y.imshow(each_slice)\n",
    "\n",
    "        plt.show()\n",
    "\n",
    "    if label == 'I' or label == 'II': \n",
    "        label = np.array([0,1])\n",
    "    else:\n",
    "#     elif label == 'IIIa' or label == 'IIIb': \n",
    "        label = np.array([1,0])\n",
    "\n",
    "    return np.array(new_slices), label"
   ]
  },
  {
   "cell_type": "markdown",
   "metadata": {},
   "source": [
    "# Function to process CT Scans and save them as #-Dimensional Arrays forneural network\n",
    "\n"
   ]
  },
  {
   "cell_type": "code",
   "execution_count": 124,
   "metadata": {},
   "outputs": [
    {
     "name": "stderr",
     "output_type": "stream",
     "text": [
      "C:\\ProgramData\\Anaconda3\\lib\\site-packages\\ipykernel_launcher.py:2: FutureWarning: get_value is deprecated and will be removed in a future release. Please use .at[] or .iat[] accessors instead\n",
      "  \n"
     ]
    },
    {
     "name": "stdout",
     "output_type": "stream",
     "text": [
      "134 IIIb\n",
      "(0008, 0005) Specific Character Set              CS: 'ISO_IR 100'\n",
      "(0008, 0008) Image Type                          CS: ['ORIGINAL', 'PRIMARY', 'AXIAL', 'CT_SOM5 SPI']\n",
      "(0008, 0016) SOP Class UID                       UI: CT Image Storage\n",
      "(0008, 0018) SOP Instance UID                    UI: 1.3.6.1.4.1.32722.99.99.41277525157876544037153507755141737313\n",
      "(0008, 0020) Study Date                          DA: '20080918'\n",
      "(0008, 0021) Series Date                         DA: '20080918'\n",
      "(0008, 0022) Acquisition Date                    DA: '20080918'\n",
      "(0008, 0023) Content Date                        DA: '20080918'\n",
      "(0008, 0030) Study Time                          TM: '110915.625000'\n",
      "(0008, 0031) Series Time                         TM: '121748.328000'\n",
      "(0008, 0032) Acquisition Time                    TM: '113944.541817'\n",
      "(0008, 0033) Content Time                        TM: '113944.541817'\n",
      "(0008, 0050) Accession Number                    SH: '2819497684894126'\n",
      "(0008, 0060) Modality                            CS: 'CT'\n",
      "(0008, 0070) Manufacturer                        LO: 'SIEMENS'\n",
      "(0008, 0090) Referring Physician's Name          PN: ' '\n",
      "(0008, 1090) Manufacturer's Model Name           LO: 'Biograph 40'\n",
      "(0009, 0010) Private Creator                     UN: Array of 20 elements\n",
      "(0010, 0010) Patient's Name                      PN: '2342949070'\n",
      "(0010, 0020) Patient ID                          LO: 'LUNG1-001'\n",
      "(0010, 0030) Patient's Birth Date                DA: ''\n",
      "(0010, 0040) Patient's Sex                       CS: 'M'\n",
      "(0010, 1010) Patient's Age                       AS: '083Y'\n",
      "(0010, 1030) Patient's Weight                    DS: \"72.0\"\n",
      "(0012, 0062) Patient Identity Removed            CS: 'YES'\n",
      "(0013, 0010) Private Creator                     LO: 'CTP'\n",
      "(0013, 1010) Private tag data                    UN: b'NSCLC-Radiomics\\x00'\n",
      "(0013, 1013) Private tag data                    UN: b'72215020'\n",
      "(0018, 0015) Body Part Examined                  CS: 'LUNG'\n",
      "(0018, 0022) Scan Options                        CS: 'TM50PC2366'\n",
      "(0018, 0050) Slice Thickness                     DS: \"3.0\"\n",
      "(0018, 0060) KVP                                 DS: \"120.0\"\n",
      "(0018, 0090) Data Collection Diameter            DS: \"500.0\"\n",
      "(0018, 1020) Software Versions                   LO: 'syngo CT 2006A'\n",
      "(0018, 1030) Protocol Name                       LO: 'RCCTPET_THORAX_CONTRAST_dag0'\n",
      "(0018, 1100) Reconstruction Diameter             DS: \"500.0\"\n",
      "(0018, 1110) Distance Source to Detector         DS: \"1040.0\"\n",
      "(0018, 1111) Distance Source to Patient          DS: \"570.0\"\n",
      "(0018, 1120) Gantry/Detector Tilt                DS: \"0.0\"\n",
      "(0018, 1130) Table Height                        DS: \"0.0\"\n",
      "(0018, 1140) Rotation Direction                  CS: 'CW'\n",
      "(0018, 1150) Exposure Time                       IS: \"361\"\n",
      "(0018, 1151) X-Ray Tube Current                  IS: \"80\"\n",
      "(0018, 1152) Exposure                            IS: \"400\"\n",
      "(0018, 1160) Filter Type                         SH: '0'\n",
      "(0018, 1170) Generator Power                     IS: \"9\"\n",
      "(0018, 1190) Focal Spot(s)                       DS: \"1.2\"\n",
      "(0018, 1200) Date of Last Calibration            DA: '20080918'\n",
      "(0018, 1201) Time of Last Calibration            TM: '082644.000000'\n",
      "(0018, 1210) Convolution Kernel                  SH: 'B19f'\n",
      "(0018, 5100) Patient Position                    CS: 'HFS'\n",
      "(0019, 0010) Private Creator                     UN: Array of 20 elements\n",
      "(0020, 000d) Study Instance UID                  UI: 1.3.6.1.4.1.32722.99.99.239341353911714368772597187099978969331\n",
      "(0020, 000e) Series Instance UID                 UI: 1.3.6.1.4.1.32722.99.99.298991776521342375010861296712563382046\n",
      "(0020, 0010) Study ID                            SH: ''\n",
      "(0020, 0011) Series Number                       IS: \"0\"\n",
      "(0020, 0012) Acquisition Number                  IS: \"2\"\n",
      "(0020, 0013) Instance Number                     IS: \"134\"\n",
      "(0020, 0032) Image Position (Patient)            DS: [-249.51171875, -460.51171875, -681.5]\n",
      "(0020, 0037) Image Orientation (Patient)         DS: [1, 0, 0, 0, 1, 0]\n",
      "(0020, 0052) Frame of Reference UID              UI: 1.3.6.1.4.1.32722.99.99.159382531350253250387871175467326315430\n",
      "(0020, 1040) Position Reference Indicator        LO: ''\n",
      "(0020, 1041) Slice Location                      DS: \"-681.5\"\n",
      "(0021, 0010) Private Creator                     UN: b'SIEMENS MED\\x00'\n",
      "(0028, 0002) Samples per Pixel                   US: 1\n",
      "(0028, 0004) Photometric Interpretation          CS: 'MONOCHROME2'\n",
      "(0028, 0010) Rows                                US: 512\n",
      "(0028, 0011) Columns                             US: 512\n",
      "(0028, 0030) Pixel Spacing                       DS: [0.9765625, 0.9765625]\n",
      "(0028, 0100) Bits Allocated                      US: 16\n",
      "(0028, 0101) Bits Stored                         US: 16\n",
      "(0028, 0102) High Bit                            US: 15\n",
      "(0028, 0103) Pixel Representation                US: 0\n",
      "(0028, 0106) Smallest Image Pixel Value          US: 0\n",
      "(0028, 0107) Largest Image Pixel Value           US: 2509\n",
      "(0028, 0303) Longitudinal Temporal Information M SH: 'MODIFIED'\n",
      "(0028, 1050) Window Center                       DS: [40, -600]\n",
      "(0028, 1051) Window Width                        DS: [400, 1200]\n",
      "(0028, 1052) Rescale Intercept                   DS: \"-1024.0\"\n",
      "(0028, 1053) Rescale Slope                       DS: \"1.0\"\n",
      "(0028, 1055) Window Center & Width Explanation   LO: ['WINDOW1', 'WINDOW2']\n",
      "(0029, 0010) Private Creator                     UN: Array of 18 elements\n",
      "(0029, 0011) Private Creator                     UN: Array of 22 elements\n",
      "(1099, 0010) Private Creator                     UN: b'TABLE_HEIGHT'\n",
      "(7fe0, 0010) Pixel Data                          OW: Array of 524288 elements\n"
     ]
    },
    {
     "data": {
      "image/png": "[encoded data removed]",
      "text/plain": [
       "<Figure size 432x288 with 1 Axes>"
      ]
     },
     "metadata": {
      "needs_background": "light"
     },
     "output_type": "display_data"
    }
   ],
   "source": [
    "for patient in patients[:1]:\n",
    "    label = data_labels.get_value(patient,'Overall.Stage')\n",
    "    path = data_dir + patient\n",
    "    _, __, files = os.walk(path)\n",
    "    slices = [dicom.read_file(files[0] + '/' + s) for s in os.listdir(files[0])]\n",
    "    slices.sort(key = lambda x: float(x.ImagePositionPatient[2]))\n",
    "    print(len(slices), label)\n",
    "    print(slices[0])\n",
    "    plt.imshow(slices[0].pixel_array)\n",
    "    plt.show()\n"
   ]
  },
  {
   "cell_type": "code",
   "execution_count": 131,
   "metadata": {},
   "outputs": [
    {
     "data": {
      "text/plain": [
       "[-249.51171875, -460.51171875, -681.5]"
      ]
     },
     "execution_count": 131,
     "metadata": {},
     "output_type": "execute_result"
    }
   ],
   "source": [
    "slices[0].ImagePositionPatient"
   ]
  },
  {
   "cell_type": "code",
   "execution_count": 133,
   "metadata": {},
   "outputs": [
    {
     "data": {
      "text/plain": [
       "array([[0, 0, 0, ..., 0, 0, 0],\n",
       "       [0, 0, 0, ..., 0, 0, 0],\n",
       "       [0, 0, 0, ..., 0, 0, 0],\n",
       "       ...,\n",
       "       [0, 0, 0, ..., 0, 0, 0],\n",
       "       [0, 0, 0, ..., 0, 0, 0],\n",
       "       [0, 0, 0, ..., 0, 0, 0]], dtype=uint16)"
      ]
     },
     "execution_count": 133,
     "metadata": {},
     "output_type": "execute_result"
    }
   ],
   "source": [
    "slices[0].pixel_array"
   ]
  },
  {
   "cell_type": "code",
   "execution_count": 105,
   "metadata": {},
   "outputs": [
    {
     "name": "stdout",
     "output_type": "stream",
     "text": [
      "0\n"
     ]
    },
    {
     "name": "stderr",
     "output_type": "stream",
     "text": [
      "C:\\ProgramData\\Anaconda3\\lib\\site-packages\\ipykernel_launcher.py:4: FutureWarning: get_value is deprecated and will be removed in a future release. Please use .at[] or .iat[] accessors instead\n",
      "  after removing the cwd from sys.path.\n"
     ]
    },
    {
     "name": "stdout",
     "output_type": "stream",
     "text": [
      "(20, 50, 50) [1 0]\n",
      "(20, 50, 50) [0 1]\n",
      "(20, 50, 50) [1 0]\n",
      "(20, 50, 50) [0 1]\n",
      "(20, 50, 50) [1 0]\n",
      "(20, 50, 50) [1 0]\n",
      "(20, 50, 50) [1 0]\n",
      "(20, 50, 50) [1 0]\n",
      "(20, 50, 50) [1 0]\n",
      "(20, 50, 50) [1 0]\n",
      "(20, 50, 50) [1 0]\n",
      "(20, 50, 50) [1 0]\n",
      "(20, 50, 50) [0 1]\n",
      "(20, 50, 50) [1 0]\n",
      "(20, 50, 50) [0 1]\n",
      "num skipped\n",
      "(20, 50, 50) [1 0]\n",
      "(20, 50, 50) [0 1]\n",
      "num skipped\n",
      "(20, 50, 50) [1 0]\n",
      "(20, 50, 50) [1 0]\n",
      "(20, 50, 50) [0 1]\n",
      "(20, 50, 50) [1 0]\n",
      "(20, 50, 50) [0 1]\n",
      "(20, 50, 50) [1 0]\n",
      "(20, 50, 50) [1 0]\n",
      "(20, 50, 50) [0 1]\n",
      "num skipped\n",
      "(20, 50, 50) [1 0]\n",
      "(20, 50, 50) [1 0]\n",
      "(20, 50, 50) [1 0]\n",
      "(20, 50, 50) [0 1]\n",
      "(20, 50, 50) [1 0]\n",
      "(20, 50, 50) [1 0]\n",
      "(20, 50, 50) [1 0]\n",
      "(20, 50, 50) [1 0]\n",
      "(20, 50, 50) [1 0]\n",
      "(20, 50, 50) [1 0]\n",
      "(20, 50, 50) [0 1]\n",
      "(20, 50, 50) [1 0]\n",
      "(20, 50, 50) [0 1]\n",
      "(20, 50, 50) [1 0]\n",
      "(20, 50, 50) [1 0]\n",
      "(20, 50, 50) [1 0]\n",
      "(20, 50, 50) [0 1]\n",
      "(20, 50, 50) [0 1]\n",
      "(20, 50, 50) [1 0]\n",
      "(20, 50, 50) [1 0]\n",
      "(20, 50, 50) [0 1]\n",
      "(20, 50, 50) [1 0]\n",
      "50\n",
      "(20, 50, 50) [0 1]\n",
      "(20, 50, 50) [1 0]\n",
      "(20, 50, 50) [0 1]\n",
      "(20, 50, 50) [1 0]\n",
      "(20, 50, 50) [1 0]\n",
      "(20, 50, 50) [1 0]\n",
      "num skipped\n",
      "(20, 50, 50) [0 1]\n",
      "(20, 50, 50) [1 0]\n",
      "(20, 50, 50) [0 1]\n",
      "(20, 50, 50) [1 0]\n",
      "num skipped\n",
      "(20, 50, 50) [0 1]\n",
      "(20, 50, 50) [0 1]\n",
      "(20, 50, 50) [1 0]\n",
      "(20, 50, 50) [1 0]\n",
      "(20, 50, 50) [1 0]\n",
      "(20, 50, 50) [1 0]\n",
      "(20, 50, 50) [1 0]\n",
      "(20, 50, 50) [0 1]\n",
      "(20, 50, 50) [1 0]\n",
      "(20, 50, 50) [1 0]\n",
      "(20, 50, 50) [1 0]\n",
      "(20, 50, 50) [1 0]\n",
      "(20, 50, 50) [1 0]\n",
      "(20, 50, 50) [1 0]\n",
      "(20, 50, 50) [0 1]\n",
      "(20, 50, 50) [0 1]\n",
      "(20, 50, 50) [1 0]\n",
      "(20, 50, 50) [0 1]\n",
      "(20, 50, 50) [1 0]\n",
      "(20, 50, 50) [1 0]\n",
      "(20, 50, 50) [0 1]\n",
      "(20, 50, 50) [1 0]\n",
      "(20, 50, 50) [1 0]\n",
      "(20, 50, 50) [1 0]\n",
      "(20, 50, 50) [0 1]\n",
      "(20, 50, 50) [1 0]\n",
      "(20, 50, 50) [1 0]\n",
      "(20, 50, 50) [0 1]\n",
      "(20, 50, 50) [1 0]\n",
      "(20, 50, 50) [1 0]\n",
      "(20, 50, 50) [1 0]\n",
      "num skipped\n",
      "(20, 50, 50) [0 1]\n",
      "(20, 50, 50) [1 0]\n",
      "(20, 50, 50) [0 1]\n",
      "(20, 50, 50) [0 1]\n",
      "(20, 50, 50) [0 1]\n",
      "(20, 50, 50) [0 1]\n",
      "100\n",
      "(20, 50, 50) [1 0]\n",
      "(20, 50, 50) [0 1]\n",
      "(20, 50, 50) [1 0]\n",
      "(20, 50, 50) [0 1]\n",
      "(20, 50, 50) [0 1]\n",
      "(20, 50, 50) [1 0]\n",
      "(20, 50, 50) [1 0]\n",
      "(20, 50, 50) [1 0]\n",
      "(20, 50, 50) [0 1]\n",
      "(20, 50, 50) [1 0]\n",
      "(20, 50, 50) [0 1]\n",
      "(20, 50, 50) [0 1]\n",
      "(20, 50, 50) [1 0]\n",
      "(20, 50, 50) [1 0]\n",
      "(20, 50, 50) [1 0]\n",
      "(20, 50, 50) [1 0]\n",
      "(20, 50, 50) [1 0]\n",
      "(20, 50, 50) [0 1]\n",
      "(20, 50, 50) [1 0]\n",
      "(20, 50, 50) [1 0]\n",
      "(20, 50, 50) [1 0]\n",
      "(20, 50, 50) [0 1]\n",
      "(20, 50, 50) [1 0]\n",
      "(20, 50, 50) [1 0]\n",
      "(20, 50, 50) [1 0]\n",
      "(20, 50, 50) [1 0]\n",
      "(20, 50, 50) [1 0]\n",
      "(20, 50, 50) [1 0]\n",
      "(20, 50, 50) [1 0]\n",
      "(20, 50, 50) [1 0]\n",
      "(20, 50, 50) [0 1]\n",
      "(20, 50, 50) [1 0]\n",
      "(20, 50, 50) [0 1]\n",
      "(20, 50, 50) [0 1]\n",
      "(20, 50, 50) [1 0]\n",
      "(20, 50, 50) [0 1]\n",
      "(20, 50, 50) [1 0]\n",
      "(20, 50, 50) [0 1]\n",
      "(20, 50, 50) [1 0]\n",
      "(20, 50, 50) [1 0]\n",
      "(20, 50, 50) [0 1]\n",
      "(20, 50, 50) [1 0]\n",
      "(20, 50, 50) [1 0]\n",
      "(20, 50, 50) [1 0]\n",
      "(20, 50, 50) [0 1]\n",
      "(20, 50, 50) [1 0]\n",
      "(20, 50, 50) [1 0]\n",
      "(20, 50, 50) [1 0]\n",
      "(20, 50, 50) [1 0]\n",
      "(20, 50, 50) [0 1]\n",
      "150\n",
      "(20, 50, 50) [0 1]\n",
      "(20, 50, 50) [0 1]\n",
      "(20, 50, 50) [0 1]\n",
      "(20, 50, 50) [0 1]\n",
      "(20, 50, 50) [1 0]\n",
      "num skipped\n",
      "(20, 50, 50) [0 1]\n",
      "(20, 50, 50) [1 0]\n",
      "(20, 50, 50) [0 1]\n",
      "(20, 50, 50) [0 1]\n",
      "(20, 50, 50) [0 1]\n",
      "(20, 50, 50) [1 0]\n",
      "(20, 50, 50) [1 0]\n",
      "(20, 50, 50) [1 0]\n",
      "(20, 50, 50) [1 0]\n",
      "(20, 50, 50) [0 1]\n",
      "(20, 50, 50) [1 0]\n",
      "(20, 50, 50) [1 0]\n",
      "(20, 50, 50) [1 0]\n",
      "(20, 50, 50) [1 0]\n",
      "(20, 50, 50) [0 1]\n",
      "(20, 50, 50) [1 0]\n",
      "(20, 50, 50) [0 1]\n",
      "(20, 50, 50) [0 1]\n",
      "(20, 50, 50) [0 1]\n",
      "(20, 50, 50) [0 1]\n",
      "(20, 50, 50) [1 0]\n",
      "(20, 50, 50) [1 0]\n",
      "(20, 50, 50) [1 0]\n",
      "(20, 50, 50) [1 0]\n",
      "(20, 50, 50) [1 0]\n",
      "(20, 50, 50) [1 0]\n",
      "(20, 50, 50) [1 0]\n",
      "(20, 50, 50) [0 1]\n",
      "(20, 50, 50) [0 1]\n",
      "(20, 50, 50) [1 0]\n",
      "(20, 50, 50) [0 1]\n",
      "(20, 50, 50) [1 0]\n",
      "(20, 50, 50) [1 0]\n",
      "(20, 50, 50) [0 1]\n",
      "(20, 50, 50) [1 0]\n",
      "(20, 50, 50) [1 0]\n",
      "(20, 50, 50) [1 0]\n",
      "(20, 50, 50) [1 0]\n",
      "(20, 50, 50) [1 0]\n",
      "(20, 50, 50) [1 0]\n",
      "(20, 50, 50) [1 0]\n",
      "(20, 50, 50) [1 0]\n",
      "(20, 50, 50) [1 0]\n",
      "(20, 50, 50) [0 1]\n",
      "200\n",
      "(20, 50, 50) [0 1]\n",
      "(20, 50, 50) [1 0]\n",
      "(20, 50, 50) [0 1]\n",
      "(20, 50, 50) [0 1]\n",
      "(20, 50, 50) [1 0]\n",
      "(20, 50, 50) [1 0]\n",
      "(20, 50, 50) [0 1]\n",
      "(20, 50, 50) [1 0]\n",
      "(20, 50, 50) [1 0]\n",
      "(20, 50, 50) [0 1]\n",
      "(20, 50, 50) [1 0]\n",
      "(20, 50, 50) [0 1]\n",
      "(20, 50, 50) [1 0]\n",
      "(20, 50, 50) [1 0]\n",
      "(20, 50, 50) [1 0]\n",
      "(20, 50, 50) [1 0]\n",
      "(20, 50, 50) [1 0]\n",
      "(20, 50, 50) [1 0]\n",
      "(20, 50, 50) [1 0]\n",
      "(20, 50, 50) [1 0]\n",
      "(20, 50, 50) [1 0]\n",
      "(20, 50, 50) [1 0]\n",
      "(20, 50, 50) [0 1]\n",
      "(20, 50, 50) [1 0]\n",
      "(20, 50, 50) [0 1]\n",
      "(20, 50, 50) [1 0]\n",
      "(20, 50, 50) [1 0]\n",
      "(20, 50, 50) [1 0]\n",
      "(20, 50, 50) [1 0]\n",
      "(20, 50, 50) [0 1]\n",
      "(20, 50, 50) [1 0]\n",
      "(20, 50, 50) [1 0]\n",
      "(20, 50, 50) [1 0]\n",
      "(20, 50, 50) [1 0]\n",
      "(20, 50, 50) [1 0]\n",
      "(20, 50, 50) [1 0]\n",
      "(20, 50, 50) [1 0]\n",
      "(20, 50, 50) [1 0]\n",
      "(20, 50, 50) [1 0]\n",
      "(20, 50, 50) [1 0]\n",
      "(20, 50, 50) [1 0]\n",
      "(20, 50, 50) [1 0]\n",
      "(20, 50, 50) [1 0]\n",
      "(20, 50, 50) [1 0]\n",
      "(20, 50, 50) [1 0]\n",
      "(20, 50, 50) [1 0]\n",
      "(20, 50, 50) [1 0]\n",
      "(20, 50, 50) [1 0]\n",
      "(20, 50, 50) [1 0]\n",
      "(20, 50, 50) [1 0]\n",
      "250\n",
      "(20, 50, 50) [1 0]\n",
      "(20, 50, 50) [0 1]\n",
      "(20, 50, 50) [0 1]\n",
      "(20, 50, 50) [1 0]\n",
      "(20, 50, 50) [0 1]\n",
      "(20, 50, 50) [1 0]\n",
      "(20, 50, 50) [1 0]\n",
      "(20, 50, 50) [1 0]\n",
      "(20, 50, 50) [1 0]\n",
      "(20, 50, 50) [0 1]\n",
      "(20, 50, 50) [1 0]\n",
      "(20, 50, 50) [1 0]\n",
      "(20, 50, 50) [0 1]\n",
      "(20, 50, 50) [1 0]\n",
      "(20, 50, 50) [1 0]\n",
      "(20, 50, 50) [1 0]\n",
      "(20, 50, 50) [1 0]\n",
      "(20, 50, 50) [1 0]\n",
      "(20, 50, 50) [1 0]\n",
      "(20, 50, 50) [1 0]\n",
      "(20, 50, 50) [1 0]\n",
      "(20, 50, 50) [1 0]\n",
      "(20, 50, 50) [0 1]\n",
      "(20, 50, 50) [1 0]\n",
      "(20, 50, 50) [1 0]\n",
      "(20, 50, 50) [1 0]\n",
      "(20, 50, 50) [1 0]\n",
      "(20, 50, 50) [0 1]\n",
      "(20, 50, 50) [1 0]\n",
      "(20, 50, 50) [1 0]\n",
      "num skipped\n",
      "(20, 50, 50) [1 0]\n",
      "(20, 50, 50) [1 0]\n",
      "(20, 50, 50) [1 0]\n",
      "(20, 50, 50) [1 0]\n",
      "(20, 50, 50) [1 0]\n",
      "(20, 50, 50) [1 0]\n",
      "(20, 50, 50) [1 0]\n",
      "(20, 50, 50) [1 0]\n",
      "(20, 50, 50) [1 0]\n",
      "(20, 50, 50) [1 0]\n",
      "(20, 50, 50) [1 0]\n",
      "(20, 50, 50) [0 1]\n",
      "(20, 50, 50) [1 0]\n",
      "(20, 50, 50) [1 0]\n",
      "(20, 50, 50) [1 0]\n",
      "num skipped\n",
      "(20, 50, 50) [0 1]\n",
      "(20, 50, 50) [1 0]\n",
      "(20, 50, 50) [1 0]\n",
      "300\n",
      "(20, 50, 50) [1 0]\n",
      "(20, 50, 50) [1 0]\n",
      "(20, 50, 50) [0 1]\n",
      "(20, 50, 50) [0 1]\n",
      "(20, 50, 50) [0 1]\n",
      "(20, 50, 50) [0 1]\n",
      "(20, 50, 50) [0 1]\n",
      "(20, 50, 50) [0 1]\n",
      "(20, 50, 50) [0 1]\n",
      "(20, 50, 50) [1 0]\n",
      "(20, 50, 50) [0 1]\n",
      "(20, 50, 50) [1 0]\n",
      "(20, 50, 50) [0 1]\n",
      "(20, 50, 50) [1 0]\n",
      "(20, 50, 50) [0 1]\n",
      "(20, 50, 50) [1 0]\n",
      "(20, 50, 50) [1 0]\n",
      "(20, 50, 50) [1 0]\n",
      "(20, 50, 50) [1 0]\n",
      "(20, 50, 50) [1 0]\n",
      "(20, 50, 50) [0 1]\n",
      "(20, 50, 50) [0 1]\n",
      "(20, 50, 50) [0 1]\n",
      "(20, 50, 50) [1 0]\n",
      "(20, 50, 50) [1 0]\n",
      "(20, 50, 50) [0 1]\n",
      "(20, 50, 50) [1 0]\n",
      "(20, 50, 50) [0 1]\n",
      "(20, 50, 50) [0 1]\n",
      "(20, 50, 50) [1 0]\n",
      "(20, 50, 50) [1 0]\n",
      "(20, 50, 50) [0 1]\n",
      "(20, 50, 50) [1 0]\n",
      "(20, 50, 50) [0 1]\n",
      "(20, 50, 50) [0 1]\n",
      "(20, 50, 50) [1 0]\n",
      "(20, 50, 50) [1 0]\n",
      "(20, 50, 50) [1 0]\n",
      "(20, 50, 50) [1 0]\n",
      "(20, 50, 50) [0 1]\n",
      "(20, 50, 50) [0 1]\n",
      "(20, 50, 50) [1 0]\n",
      "(20, 50, 50) [1 0]\n",
      "(20, 50, 50) [1 0]\n",
      "(20, 50, 50) [1 0]\n",
      "(20, 50, 50) [1 0]\n",
      "(20, 50, 50) [1 0]\n",
      "(20, 50, 50) [1 0]\n",
      "(20, 50, 50) [0 1]\n",
      "(20, 50, 50) [1 0]\n",
      "350\n",
      "(20, 50, 50) [1 0]\n",
      "(20, 50, 50) [1 0]\n",
      "(20, 50, 50) [0 1]\n",
      "(20, 50, 50) [1 0]\n",
      "num skipped\n",
      "(20, 50, 50) [1 0]\n",
      "(20, 50, 50) [0 1]\n",
      "(20, 50, 50) [0 1]\n",
      "(20, 50, 50) [1 0]\n",
      "(20, 50, 50) [1 0]\n",
      "(20, 50, 50) [1 0]\n",
      "(20, 50, 50) [1 0]\n",
      "(20, 50, 50) [1 0]\n",
      "(20, 50, 50) [1 0]\n",
      "(20, 50, 50) [1 0]\n",
      "(20, 50, 50) [1 0]\n",
      "(20, 50, 50) [1 0]\n",
      "(20, 50, 50) [1 0]\n",
      "(20, 50, 50) [1 0]\n",
      "(20, 50, 50) [1 0]\n",
      "(20, 50, 50) [0 1]\n",
      "(20, 50, 50) [1 0]\n",
      "(20, 50, 50) [1 0]\n",
      "(20, 50, 50) [1 0]\n",
      "(20, 50, 50) [1 0]\n",
      "(20, 50, 50) [1 0]\n",
      "(20, 50, 50) [1 0]\n",
      "(20, 50, 50) [1 0]\n",
      "(20, 50, 50) [1 0]\n",
      "(20, 50, 50) [1 0]\n",
      "(20, 50, 50) [1 0]\n",
      "(20, 50, 50) [1 0]\n",
      "(20, 50, 50) [1 0]\n",
      "(20, 50, 50) [1 0]\n",
      "(20, 50, 50) [0 1]\n",
      "(20, 50, 50) [1 0]\n",
      "num skipped\n",
      "(20, 50, 50) [0 1]\n",
      "(20, 50, 50) [1 0]\n",
      "(20, 50, 50) [0 1]\n",
      "(20, 50, 50) [0 1]\n",
      "(20, 50, 50) [0 1]\n",
      "(20, 50, 50) [1 0]\n",
      "(20, 50, 50) [0 1]\n",
      "(20, 50, 50) [0 1]\n",
      "(20, 50, 50) [1 0]\n",
      "(20, 50, 50) [1 0]\n",
      "(20, 50, 50) [1 0]\n",
      "(20, 50, 50) [1 0]\n",
      "(20, 50, 50) [1 0]\n",
      "400\n",
      "(20, 50, 50) [1 0]\n",
      "(20, 50, 50) [1 0]\n",
      "(20, 50, 50) [1 0]\n",
      "(20, 50, 50) [1 0]\n",
      "(20, 50, 50) [0 1]\n",
      "(20, 50, 50) [0 1]\n",
      "(20, 50, 50) [0 1]\n",
      "(20, 50, 50) [0 1]\n",
      "(20, 50, 50) [1 0]\n",
      "(20, 50, 50) [1 0]\n",
      "(20, 50, 50) [1 0]\n",
      "(20, 50, 50) [1 0]\n",
      "(20, 50, 50) [1 0]\n",
      "(20, 50, 50) [1 0]\n",
      "(20, 50, 50) [0 1]\n",
      "(20, 50, 50) [0 1]\n",
      "(20, 50, 50) [1 0]\n",
      "(20, 50, 50) [0 1]\n",
      "(20, 50, 50) [1 0]\n",
      "(20, 50, 50) [0 1]\n",
      "(20, 50, 50) [1 0]\n",
      "(20, 50, 50) [0 1]\n",
      "Finished processing\n"
     ]
    }
   ],
   "source": [
    "# Save processed data in a list\n",
    "\n",
    "arrays2 = []\n",
    "labels2 = []\n",
    "\n",
    "\n",
    "for num, patient in enumerate(patients):\n",
    "        if num%50 == 0:\n",
    "            print(num)\n",
    "\n",
    "        try:\n",
    "            img_data, label = process_data(patient, data_labels, img_pxl_size=IMG_PXL_SIZE, hm_slices=HM_SLICES)\n",
    "            if img_data.shape[0] == 20:\n",
    "                arrays2.append(img_data)\n",
    "                labels2.append(label)\n",
    "                print(img_data.shape, label)\n",
    "            else:\n",
    "                print(\"num skipped\")\n",
    "\n",
    "        except KeyError as e:\n",
    "            \n",
    "            print(img_data.shape , '\\tThis is unlabeled data')\n",
    "\n",
    "np.save('arrays2-{}-{}-{}.npy'.format(IMG_PXL_SIZE,IMG_PXL_SIZE,HM_SLICES), arrays2)\n",
    "np.save('labels2-{}-{}-{}.npy'.format(IMG_PXL_SIZE,IMG_PXL_SIZE,HM_SLICES), labels2)\n",
    "print('Finished processing')"
   ]
  },
  {
   "cell_type": "code",
   "execution_count": 103,
   "metadata": {
    "scrolled": false
   },
   "outputs": [
    {
     "ename": "ValueError",
     "evalue": "all input arrays must have the same shape",
     "output_type": "error",
     "traceback": [
      "\u001b[1;31m---------------------------------------------------------------------------\u001b[0m",
      "\u001b[1;31mValueError\u001b[0m                                Traceback (most recent call last)",
      "\u001b[1;32m<ipython-input-103-7421e4212165>\u001b[0m in \u001b[0;36m<module>\u001b[1;34m\u001b[0m\n\u001b[0;32m      1\u001b[0m \u001b[0marrays_stack\u001b[0m \u001b[1;33m=\u001b[0m \u001b[0mnp\u001b[0m\u001b[1;33m.\u001b[0m\u001b[0mstack\u001b[0m\u001b[1;33m(\u001b[0m\u001b[0marrays2\u001b[0m\u001b[1;33m)\u001b[0m\u001b[1;33m\u001b[0m\u001b[1;33m\u001b[0m\u001b[0m\n\u001b[1;32m----> 2\u001b[1;33m \u001b[0mlabels_stack\u001b[0m \u001b[1;33m=\u001b[0m \u001b[0mnp\u001b[0m\u001b[1;33m.\u001b[0m\u001b[0mstack\u001b[0m\u001b[1;33m(\u001b[0m\u001b[0mlabels2\u001b[0m\u001b[1;33m)\u001b[0m\u001b[1;33m\u001b[0m\u001b[1;33m\u001b[0m\u001b[0m\n\u001b[0m",
      "\u001b[1;32m<__array_function__ internals>\u001b[0m in \u001b[0;36mstack\u001b[1;34m(*args, **kwargs)\u001b[0m\n",
      "\u001b[1;32mC:\\ProgramData\\Anaconda3\\lib\\site-packages\\numpy\\core\\shape_base.py\u001b[0m in \u001b[0;36mstack\u001b[1;34m(arrays, axis, out)\u001b[0m\n\u001b[0;32m    423\u001b[0m     \u001b[0mshapes\u001b[0m \u001b[1;33m=\u001b[0m \u001b[1;33m{\u001b[0m\u001b[0marr\u001b[0m\u001b[1;33m.\u001b[0m\u001b[0mshape\u001b[0m \u001b[1;32mfor\u001b[0m \u001b[0marr\u001b[0m \u001b[1;32min\u001b[0m \u001b[0marrays\u001b[0m\u001b[1;33m}\u001b[0m\u001b[1;33m\u001b[0m\u001b[1;33m\u001b[0m\u001b[0m\n\u001b[0;32m    424\u001b[0m     \u001b[1;32mif\u001b[0m \u001b[0mlen\u001b[0m\u001b[1;33m(\u001b[0m\u001b[0mshapes\u001b[0m\u001b[1;33m)\u001b[0m \u001b[1;33m!=\u001b[0m \u001b[1;36m1\u001b[0m\u001b[1;33m:\u001b[0m\u001b[1;33m\u001b[0m\u001b[1;33m\u001b[0m\u001b[0m\n\u001b[1;32m--> 425\u001b[1;33m         \u001b[1;32mraise\u001b[0m \u001b[0mValueError\u001b[0m\u001b[1;33m(\u001b[0m\u001b[1;34m'all input arrays must have the same shape'\u001b[0m\u001b[1;33m)\u001b[0m\u001b[1;33m\u001b[0m\u001b[1;33m\u001b[0m\u001b[0m\n\u001b[0m\u001b[0;32m    426\u001b[0m \u001b[1;33m\u001b[0m\u001b[0m\n\u001b[0;32m    427\u001b[0m     \u001b[0mresult_ndim\u001b[0m \u001b[1;33m=\u001b[0m \u001b[0marrays\u001b[0m\u001b[1;33m[\u001b[0m\u001b[1;36m0\u001b[0m\u001b[1;33m]\u001b[0m\u001b[1;33m.\u001b[0m\u001b[0mndim\u001b[0m \u001b[1;33m+\u001b[0m \u001b[1;36m1\u001b[0m\u001b[1;33m\u001b[0m\u001b[1;33m\u001b[0m\u001b[0m\n",
      "\u001b[1;31mValueError\u001b[0m: all input arrays must have the same shape"
     ]
    }
   ],
   "source": [
    "arrays_stack = np.stack(arrays2)\n",
    "labels_stack = np.stack(labels2)"
   ]
  },
  {
   "cell_type": "code",
   "execution_count": 98,
   "metadata": {},
   "outputs": [
    {
     "data": {
      "text/plain": [
       "(411, 20, 50, 50)"
      ]
     },
     "execution_count": 98,
     "metadata": {},
     "output_type": "execute_result"
    }
   ],
   "source": [
    "arrays_stack"
   ]
  },
  {
   "cell_type": "code",
   "execution_count": 150,
   "metadata": {},
   "outputs": [],
   "source": [
    "X_train, X_test, y_train, y_test = train_test_split(arrays2, labels2, test_size=0.30, random_state=42, stratify = labels2)"
   ]
  },
  {
   "cell_type": "code",
   "execution_count": 77,
   "metadata": {},
   "outputs": [],
   "source": [
    "from keras.models import Sequential\n",
    "from keras.layers import Dense, Dropout, Activation, Flatten\n",
    "from keras.layers import Conv2D, MaxPooling2D, Conv3D, MaxPooling3D\n",
    "from keras.utils import np_utils"
   ]
  },
  {
   "cell_type": "code",
   "execution_count": 142,
   "metadata": {
    "scrolled": false
   },
   "outputs": [],
   "source": [
    "# Instantiate a CNN.\n",
    "cnn_model = Sequential()\n",
    "\n",
    "# Add a convolutional layer.\n",
    "cnn_model.add(Conv2D(filters = 16,         # number of filters\n",
    "                     kernel_size = 3,        # height/width of filter\n",
    "                     activation='relu',      # activation function \n",
    "                     input_shape=(20,50,50))) # shape of input (image)\n",
    "\n",
    "# Add a pooling layer.\n",
    "cnn_model.add(MaxPooling2D(pool_size=(2,2))) # dimensions of region of pooling\n",
    "\n",
    "# Add another convolutional layer.\n",
    "cnn_model.add(Conv2D(64,\n",
    "                       kernel_size = 3,\n",
    "                       activation='relu'))\n",
    "\n",
    "# Add another pooling layer.\n",
    "cnn_model.add(MaxPooling2D(pool_size=(2,2)))\n",
    "\n",
    "# We have to remember to flatten to go from the \"box\" to the vertical line of nodes!\n",
    "cnn_model.add(Flatten())\n",
    "\n",
    "# Add a densely-connected layer with 64 neurons.\n",
    "cnn_model.add(Dense(64, activation='relu'))\n",
    "\n",
    "# Prevent overfitting\n",
    "cnn_model.add(Dropout(0.5))\n",
    "\n",
    "# Add a densely-connected layer with 32 neurons.\n",
    "cnn_model.add(Dense(32, activation='relu'))\n",
    "\n",
    "# Prevent overfitting\n",
    "cnn_model.add(Dropout(0.5))\n",
    "\n",
    "# Add a final layer with 2 neurons.\n",
    "cnn_model.add(Dense(2, activation='sigmoid'))\n",
    "\n",
    "# Compile model\n",
    "cnn_model.compile(loss='binary_crossentropy',\n",
    "                    optimizer='adam',\n",
    "                    metrics=['accuracy'])\n",
    "\n"
   ]
  },
  {
   "cell_type": "code",
   "execution_count": 143,
   "metadata": {},
   "outputs": [
    {
     "name": "stdout",
     "output_type": "stream",
     "text": [
      "Model: \"sequential_18\"\n",
      "_________________________________________________________________\n",
      "Layer (type)                 Output Shape              Param #   \n",
      "=================================================================\n",
      "conv2d_24 (Conv2D)           (None, 18, 48, 16)        7216      \n",
      "_________________________________________________________________\n",
      "max_pooling2d_23 (MaxPooling (None, 9, 24, 16)         0         \n",
      "_________________________________________________________________\n",
      "conv2d_25 (Conv2D)           (None, 7, 22, 64)         9280      \n",
      "_________________________________________________________________\n",
      "max_pooling2d_24 (MaxPooling (None, 3, 11, 64)         0         \n",
      "_________________________________________________________________\n",
      "flatten_13 (Flatten)         (None, 2112)              0         \n",
      "_________________________________________________________________\n",
      "dense_37 (Dense)             (None, 64)                135232    \n",
      "_________________________________________________________________\n",
      "dropout_25 (Dropout)         (None, 64)                0         \n",
      "_________________________________________________________________\n",
      "dense_38 (Dense)             (None, 32)                2080      \n",
      "_________________________________________________________________\n",
      "dropout_26 (Dropout)         (None, 32)                0         \n",
      "_________________________________________________________________\n",
      "dense_39 (Dense)             (None, 2)                 66        \n",
      "=================================================================\n",
      "Total params: 153,874\n",
      "Trainable params: 153,874\n",
      "Non-trainable params: 0\n",
      "_________________________________________________________________\n"
     ]
    }
   ],
   "source": [
    "cnn_model.summary()"
   ]
  },
  {
   "cell_type": "code",
   "execution_count": 109,
   "metadata": {},
   "outputs": [],
   "source": [
    "trial = np.stack(X_train)"
   ]
  },
  {
   "cell_type": "code",
   "execution_count": 110,
   "metadata": {},
   "outputs": [
    {
     "data": {
      "text/plain": [
       "(287, 20, 50, 50)"
      ]
     },
     "execution_count": 110,
     "metadata": {},
     "output_type": "execute_result"
    }
   ],
   "source": [
    "trial.shape"
   ]
  },
  {
   "cell_type": "code",
   "execution_count": 112,
   "metadata": {},
   "outputs": [
    {
     "data": {
      "text/plain": [
       "(20, 50, 50)"
      ]
     },
     "execution_count": 112,
     "metadata": {},
     "output_type": "execute_result"
    }
   ],
   "source": [
    "trial[0].shape"
   ]
  },
  {
   "cell_type": "code",
   "execution_count": 151,
   "metadata": {
    "scrolled": false
   },
   "outputs": [
    {
     "name": "stdout",
     "output_type": "stream",
     "text": [
      "Train on 287 samples, validate on 124 samples\n",
      "Epoch 1/10\n",
      "287/287 [==============================] - 1s 5ms/step - loss: 7.5703 - accuracy: 0.5279 - val_loss: 4.9125 - val_accuracy: 0.6935\n",
      "Epoch 2/10\n",
      "287/287 [==============================] - 2s 6ms/step - loss: 7.7182 - accuracy: 0.5174 - val_loss: 4.9125 - val_accuracy: 0.6935\n",
      "Epoch 3/10\n",
      "287/287 [==============================] - 1s 5ms/step - loss: 7.5095 - accuracy: 0.5314 - val_loss: 4.9125 - val_accuracy: 0.6935\n",
      "Epoch 4/10\n",
      "287/287 [==============================] - 1s 5ms/step - loss: 7.8489 - accuracy: 0.5105 - val_loss: 4.9125 - val_accuracy: 0.6935\n",
      "Epoch 5/10\n",
      "287/287 [==============================] - 1s 5ms/step - loss: 7.1497 - accuracy: 0.5540 - val_loss: 4.9125 - val_accuracy: 0.6935\n",
      "Epoch 6/10\n",
      "287/287 [==============================] - 1s 5ms/step - loss: 7.1715 - accuracy: 0.5523 - val_loss: 4.9125 - val_accuracy: 0.6935\n",
      "Epoch 7/10\n",
      "287/287 [==============================] - 2s 5ms/step - loss: 7.2362 - accuracy: 0.5470 - val_loss: 4.9125 - val_accuracy: 0.6935\n",
      "Epoch 8/10\n",
      "287/287 [==============================] - 2s 6ms/step - loss: 7.8471 - accuracy: 0.5105 - val_loss: 4.9125 - val_accuracy: 0.6935\n",
      "Epoch 9/10\n",
      "287/287 [==============================] - 2s 6ms/step - loss: 7.2886 - accuracy: 0.5453 - val_loss: 4.9125 - val_accuracy: 0.6935\n",
      "Epoch 10/10\n",
      "287/287 [==============================] - 2s 6ms/step - loss: 7.9887 - accuracy: 0.5000 - val_loss: 4.9125 - val_accuracy: 0.6935\n"
     ]
    }
   ],
   "source": [
    "# Fit model on training data\n",
    "history = cnn_model.fit(np.stack(X_train),\n",
    "                          np.stack(y_train),\n",
    "                          batch_size=32,\n",
    "                          validation_data=(np.stack(X_test), np.stack(y_test)),\n",
    "                          epochs=10,\n",
    "                          verbose=1)"
   ]
  },
  {
   "cell_type": "code",
   "execution_count": 152,
   "metadata": {
    "scrolled": true
   },
   "outputs": [
    {
     "data": {
      "image/png": "[encoded data removed]",
      "text/plain": [
       "<Figure size 432x288 with 1 Axes>"
      ]
     },
     "metadata": {
      "needs_background": "light"
     },
     "output_type": "display_data"
    }
   ],
   "source": [
    "plt.plot(history.history['loss'], label='Train loss')\n",
    "plt.plot(history.history['val_loss'], label='Val Loss')\n",
    "plt.legend();"
   ]
  },
  {
   "cell_type": "code",
   "execution_count": 153,
   "metadata": {
    "scrolled": true
   },
   "outputs": [
    {
     "data": {
      "image/png": "[encoded data removed]",
      "text/plain": [
       "<Figure size 432x288 with 1 Axes>"
      ]
     },
     "metadata": {
      "needs_background": "light"
     },
     "output_type": "display_data"
    }
   ],
   "source": [
    "plt.plot(history.history['accuracy'], label='Train accuracy')\n",
    "plt.plot(history.history['val_accuracy'], label='Val accuracy')\n",
    "plt.legend();"
   ]
  }
 ],
 "metadata": {
  "kernelspec": {
   "display_name": "Python 3",
   "language": "python",
   "name": "python3"
  },
  "language_info": {
   "codemirror_mode": {
    "name": "ipython",
    "version": 3
   },
   "file_extension": ".py",
   "mimetype": "text/x-python",
   "name": "python",
   "nbconvert_exporter": "python",
   "pygments_lexer": "ipython3",
   "version": "3.7.3"
  },
  "toc": {
   "base_numbering": 1,
   "nav_menu": {},
   "number_sections": true,
   "sideBar": true,
   "skip_h1_title": false,
   "title_cell": "Table of Contents",
   "title_sidebar": "Contents",
   "toc_cell": false,
   "toc_position": {},
   "toc_section_display": true,
   "toc_window_display": false
  }
 },
 "nbformat": 4,
 "nbformat_minor": 2
}
